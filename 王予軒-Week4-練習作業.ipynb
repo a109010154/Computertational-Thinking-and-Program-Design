{
  "nbformat": 4,
  "nbformat_minor": 0,
  "metadata": {
    "colab": {
      "name": "王予軒-Week4-練習作業.ipynb",
      "provenance": [],
      "authorship_tag": "ABX9TyP/AlBwradO/odAjlhzq7Kr",
      "include_colab_link": true
    },
    "kernelspec": {
      "name": "python3",
      "display_name": "Python 3"
    }
  },
  "cells": [
    {
      "cell_type": "markdown",
      "metadata": {
        "id": "view-in-github",
        "colab_type": "text"
      },
      "source": [
        "<a href=\"https://colab.research.google.com/github/a109010154/Computertational-Thinking-and-Program-Design/blob/main/%E7%8E%8B%E4%BA%88%E8%BB%92-Week4-%E7%B7%B4%E7%BF%92%E4%BD%9C%E6%A5%AD.ipynb\" target=\"_parent\"><img src=\"https://colab.research.google.com/assets/colab-badge.svg\" alt=\"Open In Colab\"/></a>"
      ]
    },
    {
      "cell_type": "markdown",
      "metadata": {
        "id": "bpYCRfPcVKHA"
      },
      "source": [
        "#隨堂練習"
      ]
    },
    {
      "cell_type": "markdown",
      "metadata": {
        "id": "fbxJMNeZYTXO"
      },
      "source": [
        "#課後練習\r\n",
        "**從一則新聞報導，提出你對新聞系（OO系）學生為什麼要學「運算思維與程式設計」的見解。（告訴我新聞連結，以及你的觀點即可。）**"
      ]
    },
    {
      "cell_type": "markdown",
      "metadata": {
        "id": "5JIZfxlmYkOd"
      },
      "source": [
        "現在網路越來越發達，網路和我們的關係也變得密不可分，新聞系，一個求新求快的科系，我們也必須與世界接軌，讓閱聽眾也接受到不同國家的訊息，簡易的程式設計，我覺得對於我們未來撰寫新聞，編輯新聞，發布新聞都是有幫助的，我也覺得現在學習程式設計，會比未來我們自己摸索的成果更好，更有效率。\r\n",
        "https://www.cw.com.tw/article/5080736"
      ]
    },
    {
      "cell_type": "code",
      "metadata": {
        "id": "5AOtu8nJZiqr"
      },
      "source": [
        ""
      ],
      "execution_count": null,
      "outputs": []
    }
  ]
}