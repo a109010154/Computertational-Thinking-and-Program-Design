{
  "nbformat": 4,
  "nbformat_minor": 0,
  "metadata": {
    "kernelspec": {
      "display_name": "Python 3",
      "language": "python",
      "name": "python3"
    },
    "language_info": {
      "codemirror_mode": {
        "name": "ipython",
        "version": 3
      },
      "file_extension": ".py",
      "mimetype": "text/x-python",
      "name": "python",
      "nbconvert_exporter": "python",
      "pygments_lexer": "ipython3",
      "version": "3.8.5"
    },
    "colab": {
      "name": "王予軒-Week11-作業.ipynb",
      "provenance": [],
      "include_colab_link": true
    }
  },
  "cells": [
    {
      "cell_type": "markdown",
      "metadata": {
        "id": "view-in-github",
        "colab_type": "text"
      },
      "source": [
        "<a href=\"https://colab.research.google.com/github/a109010154/Computertational-Thinking-and-Program-Design/blob/main/%E7%8E%8B%E4%BA%88%E8%BB%92_Week11_%E4%BD%9C%E6%A5%AD.ipynb\" target=\"_parent\"><img src=\"https://colab.research.google.com/assets/colab-badge.svg\" alt=\"Open In Colab\"/></a>"
      ]
    },
    {
      "cell_type": "markdown",
      "metadata": {
        "id": "piIhYZIhxOgx"
      },
      "source": [
        "# 基本程式設計(應用篇)"
      ]
    },
    {
      "cell_type": "markdown",
      "metadata": {
        "id": "kbWMi6OTxOg4"
      },
      "source": [
        "### 4-2 運算思維四個基石"
      ]
    },
    {
      "cell_type": "markdown",
      "metadata": {
        "id": "k46hPD2cxOg5"
      },
      "source": [
        "#### 4-2-4  問題拆解 - 打造你的聊天機器人"
      ]
    },
    {
      "cell_type": "markdown",
      "metadata": {
        "id": "5T2ZUj5NxOg5"
      },
      "source": [
        "「哈囉，大家好。我叫Zyxo64，是一個聊天機器人。\n",
        "\n",
        "在嗜好與興趣方面，我很喜歡美食，也喜歡養動物。\n",
        "\n",
        "很高興有機會來到世新大學，請大家多多指教。\n",
        "\n",
        "嗨！妳好，請問大名？：Francis。\n",
        "\n",
        "Francis，很高興認識你。"
      ]
    },
    {
      "cell_type": "code",
      "metadata": {
        "colab": {
          "base_uri": "https://localhost:8080/"
        },
        "id": "3xVJIQC2xOg6",
        "outputId": "8996d853-e5dc-4037-b052-c85b862cbf54"
      },
      "source": [
        "# 1.聊天機器人自我介紹\n",
        "print(\"哈囉，大家好!我叫Zyxo64，是一個聊天機器人\")\n",
        "print(\"在嗜好與興趣方面，我很喜歡美食，也喜歡養動物。\")\n",
        "Hello=(f\"很高興有機會來到世新大學，請大家多多指教。\")\n",
        "# 2. 打招呼，取得對方名字\n",
        "print(\"嗨，你好\")\n",
        "name=input(\"請問大名\")\n",
        "print(f\"{name},很高興認識你 \")\n"
      ],
      "execution_count": 4,
      "outputs": [
        {
          "output_type": "stream",
          "text": [
            "哈囉，大家好!我叫Zyxo64，是一個聊天機器人\n",
            "在嗜好與興趣方面，我很喜歡美食，也喜歡養動物。\n",
            "嗨，你好\n",
            "請問大名123\n",
            "123,很高興認識你\n"
          ],
          "name": "stdout"
        }
      ]
    },
    {
      "cell_type": "markdown",
      "metadata": {
        "id": "k5fxCeQHxOg7"
      },
      "source": [
        "抱歉，請問一下今年是西元2021年，那是民國幾年呢？：*110*。\n",
        "\n",
        "對！沒錯，謝謝妳！\n",
        "\n",
        "**Francis**，猜猜看我今年幾歲？ ：**18**。\n",
        "\n",
        "哇！你好聰明，我今年的確*18*。\n",
        "\n",
        "再82年我就100歲了。\n",
        "\n",
        "那時候是西元 2103年，也就是民國192年囉！"
      ]
    },
    {
      "cell_type": "code",
      "metadata": {
        "colab": {
          "base_uri": "https://localhost:8080/"
        },
        "id": "gSdyHcCbxOg7",
        "outputId": "fc7e6198-2ded-49d8-a4fc-bd26af2539e1"
      },
      "source": [
        "# 3. 數學運算\n",
        "## 3-1 從使用者取得今年\n",
        "year=input(\"請問一下今年是西元2021年，那是民國幾年呢？\")\n",
        "print(\"沒錯，謝謝你\")\n",
        "\n",
        "## 3-2 請使用者猜年齡\n",
        "age=input(\"猜猜看我今年幾歲\")\n",
        "print(f\"哇!你好聰明，我今年的確18。\")\n",
        "year=int(year)\n",
        "age=int(age)\n",
        "print(f\"再{100-age}年诶就100歲了\")\n",
        "time=year+1911+(100-age)\n",
        "print(f\"那時候是西元{time}年，也就是民國{time-1911}年囉！\")\n",
        "\n",
        "## 3-3 計算聊天機器人滿100歲的年份\n",
        "\n"
      ],
      "execution_count": 7,
      "outputs": [
        {
          "output_type": "stream",
          "text": [
            "請問一下今年是西元2021年，那是民國幾年呢？110\n",
            "沒錯，謝謝你\n",
            "猜猜看我今年幾歲18\n",
            "哇!你好聰明，我今年的確18。\n",
            "再82年诶就100歲了\n",
            "那時候是西元2103年，也就是民國192年囉！\n"
          ],
          "name": "stdout"
        }
      ]
    },
    {
      "cell_type": "markdown",
      "metadata": {
        "id": "9ZxPwhwBxOg7"
      },
      "source": [
        "我喜歡吃巧克力，也喜歡嘗試各種新食物。\n",
        "\n",
        "你呢？你最喜歡的食物是什麼？**:披薩**。\n",
        "\n",
        "我也喜歡 *披薩*。\n",
        "\n",
        "你多久吃一次 *披薩*？**：每天**。\n",
        "\n",
        "真有趣。不知道這樣對健康好不好。"
      ]
    },
    {
      "cell_type": "code",
      "metadata": {
        "colab": {
          "base_uri": "https://localhost:8080/"
        },
        "id": "tlI_Xs2exOg8",
        "outputId": "cab0d928-af17-4410-852c-78af3027567b"
      },
      "source": [
        "# 4 興趣\n",
        "## 4-1 食物話題\n",
        "print(\"我喜歡吃巧克力，也喜歡嘗試各種新食物。\")\n",
        "print(\"你呢?\")\n",
        "food=input(\"你最喜歡的食物是什麼？\")\n",
        "food=int(food)\n",
        "print(f\"我也最喜歡{food}\")\n",
        "time=input(\"你多久吃一次\")\n",
        "print(\"真有趣，不知道這樣對健康好不好\")"
      ],
      "execution_count": 16,
      "outputs": [
        {
          "output_type": "stream",
          "text": [
            "我喜歡吃巧克力，也喜歡嘗試各種新食物。\n",
            "你呢?\n",
            "你最喜歡的食物是什麼？123\n",
            "我也最喜歡123\n",
            "你多久吃一次1223\n",
            "真有取，不知道這樣對健康好不好\n"
          ],
          "name": "stdout"
        }
      ]
    },
    {
      "cell_type": "markdown",
      "metadata": {
        "id": "RKOt5hIyxOg8"
      },
      "source": [
        "我最喜歡的動物是長頸鹿。你呢？ **：烏龜**。\n",
        "\n",
        "我不喜歡*烏龜*！\n",
        "\n",
        "不知道 *烏龜* 喜不喜歡吃 *披薩*？"
      ]
    },
    {
      "cell_type": "code",
      "metadata": {
        "colab": {
          "base_uri": "https://localhost:8080/"
        },
        "id": "xtV1cx7ZxOg8",
        "outputId": "10b1604c-dfb7-455a-f701-1a58c7ed5079"
      },
      "source": [
        "# 4 興趣\n",
        "print(\"我最喜歡的動物是長頸鹿。你呢？\")\n",
        "animal=input(\"你最喜歡的動物是什麼？\")\n",
        "animal=int(animal)\n",
        "print(f\"我不喜歡{animal}\")\n",
        "print(f\"不知道{animal}喜不喜歡吃披薩\")\n",
        "## 4-2 動物話題\n"
      ],
      "execution_count": 18,
      "outputs": [
        {
          "output_type": "stream",
          "text": [
            "我最喜歡的動物是長頸鹿。你呢？\n",
            "你最喜歡的動物是什麼？123\n",
            "我不喜歡123\n",
            "不知道123喜不喜歡吃披薩\n"
          ],
          "name": "stdout"
        }
      ]
    },
    {
      "cell_type": "markdown",
      "metadata": {
        "id": "xaDYH4HwxOg9"
      },
      "source": [
        "你今天的心情如何？ **：很開心**。\n",
        "\n",
        "可以告訴我你 *開心* 的原因嗎？**因為週末了！** \n",
        "\n",
        "祝你週末愉快！\n",
        "\n",
        "我喜歡跟你聊天，現在有點累了，改天再聊吧！！\n",
        "\n",
        "再見 *Francis*！"
      ]
    },
    {
      "cell_type": "code",
      "metadata": {
        "colab": {
          "base_uri": "https://localhost:8080/"
        },
        "id": "fTE-F8PTxOg9",
        "outputId": "468e7c24-4b86-41c1-edeb-07100e2f6671"
      },
      "source": [
        "# 5. 關於心情的對話\n",
        "feel=input(\"你今天的心情如何？\")\n",
        "feel=int(feel)\n",
        "input(f\"可以告訴我你{feel}的原因嗎\")\n",
        "print(\"祝你週末愉快！\")\n",
        "print(\"我喜歡跟你聊天，現在有點累了，改天再聊吧！！\")\n",
        "\n",
        "print(\"再見 Francis！\")"
      ],
      "execution_count": 22,
      "outputs": [
        {
          "output_type": "stream",
          "text": [
            "你今天的心情如何？123\n",
            "可以告訴我你123的原因嗎123\n",
            "祝你週末愉快！\n",
            "我喜歡跟你聊天，現在有點累了，改天再聊吧！！\n",
            "再見 Francis！\n"
          ],
          "name": "stdout"
        }
      ]
    },
    {
      "cell_type": "markdown",
      "metadata": {
        "id": "9Le3Y4NoxOg9"
      },
      "source": [
        "我喜歡跟你聊天，現在有點累了，改天再聊吧！！\n",
        "\n",
        "再見 *Francis*！"
      ]
    },
    {
      "cell_type": "code",
      "metadata": {
        "id": "7WkINyNUxOg9"
      },
      "source": [
        "# 6. 道別\n",
        "print(\"我喜歡跟你聊天，現在有點累了，改天再聊吧！！\")\n",
        "print(\"再見 Francis！\")"
      ],
      "execution_count": null,
      "outputs": []
    },
    {
      "cell_type": "markdown",
      "metadata": {
        "id": "uupZaJHzxOg-"
      },
      "source": [
        "## 期末報告"
      ]
    },
    {
      "cell_type": "markdown",
      "metadata": {
        "id": "MoSsg_uSxOg-"
      },
      "source": [
        "### 組長(學號姓名):\n",
        "\n"
      ]
    },
    {
      "cell_type": "markdown",
      "metadata": {
        "id": "ThSXJnPpxOg-"
      },
      "source": [
        "### 組員(學號姓名):\n",
        "\n"
      ]
    },
    {
      "cell_type": "markdown",
      "metadata": {
        "id": "oKYZXUdKxOg-"
      },
      "source": [
        "### 題目:"
      ]
    },
    {
      "cell_type": "markdown",
      "metadata": {
        "id": "vd7USkprxOg_"
      },
      "source": [
        "### 百字腳本\n",
        "\n"
      ]
    }
  ]
}