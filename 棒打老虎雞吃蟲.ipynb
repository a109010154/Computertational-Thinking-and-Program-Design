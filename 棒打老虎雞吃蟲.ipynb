{
  "nbformat": 4,
  "nbformat_minor": 0,
  "metadata": {
    "colab": {
      "name": "棒打老虎雞吃蟲.ipynb",
      "provenance": [],
      "authorship_tag": "ABX9TyNXGAL4fYW5NI5vWSmTbssf",
      "include_colab_link": true
    },
    "kernelspec": {
      "name": "python3",
      "display_name": "Python 3"
    },
    "language_info": {
      "name": "python"
    }
  },
  "cells": [
    {
      "cell_type": "markdown",
      "metadata": {
        "id": "view-in-github",
        "colab_type": "text"
      },
      "source": [
        "<a href=\"https://colab.research.google.com/github/a109010154/Computertational-Thinking-and-Program-Design/blob/main/%E6%A3%92%E6%89%93%E8%80%81%E8%99%8E%E9%9B%9E%E5%90%83%E8%9F%B2.ipynb\" target=\"_parent\"><img src=\"https://colab.research.google.com/assets/colab-badge.svg\" alt=\"Open In Colab\"/></a>"
      ]
    },
    {
      "cell_type": "code",
      "metadata": {
        "colab": {
          "base_uri": "https://localhost:8080/"
        },
        "id": "hO9AWLqCOF7A",
        "outputId": "48ce7e41-f420-41c1-b888-36a843be9930"
      },
      "source": [
        "my=int(input(\"請出拳[0]蟲[1]雞[2]老虎[3]棒子\"))\n",
        "print(\"你得出拳:\",my)\n",
        "import random\n",
        "com=random.randint(0,3)\n",
        "print(\"電腦出拳\",com)\n",
        "if my ==(com+1)%4:\n",
        "  print(\"我贏了\")\n",
        "elif com ==(my+1)%4:\n",
        "  print(\"電腦贏了\")\n",
        "else:\n",
        "  print(\"平手\")"
      ],
      "execution_count": 4,
      "outputs": [
        {
          "output_type": "stream",
          "text": [
            "請出拳[0]蟲[1]雞[2]老虎[3]棒子1\n",
            "你得出拳: 1\n",
            "電腦出拳 2\n",
            "電腦贏了\n"
          ],
          "name": "stdout"
        }
      ]
    }
  ]
}