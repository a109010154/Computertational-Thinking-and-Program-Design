{
  "nbformat": 4,
  "nbformat_minor": 0,
  "metadata": {
    "kernelspec": {
      "display_name": "Python 3",
      "language": "python",
      "name": "python3"
    },
    "language_info": {
      "codemirror_mode": {
        "name": "ipython",
        "version": 3
      },
      "file_extension": ".py",
      "mimetype": "text/x-python",
      "name": "python",
      "nbconvert_exporter": "python",
      "pygments_lexer": "ipython3",
      "version": "3.8.5"
    },
    "colab": {
      "name": "王予軒-Week13-作業練習.ipynb",
      "provenance": [],
      "include_colab_link": true
    }
  },
  "cells": [
    {
      "cell_type": "markdown",
      "metadata": {
        "id": "view-in-github",
        "colab_type": "text"
      },
      "source": [
        "<a href=\"https://colab.research.google.com/github/a109010154/Computertational-Thinking-and-Program-Design/blob/main/%E7%8E%8B%E4%BA%88%E8%BB%92_Week13_%E4%BD%9C%E6%A5%AD%E7%B7%B4%E7%BF%92.ipynb\" target=\"_parent\"><img src=\"https://colab.research.google.com/assets/colab-badge.svg\" alt=\"Open In Colab\"/></a>"
      ]
    },
    {
      "cell_type": "markdown",
      "metadata": {
        "id": "kxfJGkGf0yW6"
      },
      "source": [
        "#### 隨堂練習1: 滿2000 打九折\n",
        "\n",
        "**請寫一個程式幫助店家計算顧客所需付出的金額。**\n",
        "\n",
        "採買物品時，有時會遇到店家為了刺激消費，會使用滿額折扣。例如，滿2000 打九折，未滿2000 則不打折。"
      ]
    },
    {
      "cell_type": "code",
      "metadata": {
        "colab": {
          "base_uri": "https://localhost:8080/"
        },
        "id": "4-myzvxN0yXA",
        "outputId": "76e9623b-139f-438c-bb82-c36ab84dfe93"
      },
      "source": [
        "price=int(input('請輸入價格'))\n",
        "if price >= 2000:\n",
        "  print(\"可打九折\",price*0.9)\n",
        "else:\n",
        "  peint(\"不可打九折\")"
      ],
      "execution_count": 4,
      "outputs": [
        {
          "output_type": "stream",
          "text": [
            "請輸入價格2000\n",
            "可打九折 1800.0\n"
          ],
          "name": "stdout"
        }
      ]
    },
    {
      "cell_type": "markdown",
      "metadata": {
        "id": "A0wO4ger0yXC"
      },
      "source": [
        "#### 隨堂練習2: 判斷奇偶數\n",
        "\n",
        "請寫一個程式判斷輸入的值是奇數還是偶數。"
      ]
    },
    {
      "cell_type": "code",
      "metadata": {
        "id": "92NJfqFn0yXD"
      },
      "source": [
        "num+int(input(\"請輸入數字\"))"
      ],
      "execution_count": null,
      "outputs": []
    },
    {
      "cell_type": "markdown",
      "metadata": {
        "id": "tsr8ESl20yXE"
      },
      "source": [
        "#### 練習7. Think Like a Computer Scientist\n",
        "\n",
        "如果輸入的num為20, 9, 5,和0，請用你的邏輯直接告訴我，下面兩組程式結果與差異:\n",
        "    \n",
        "```{pYTHON}\n",
        "## 方法（一）：if 敘述\n",
        "num = int(input(\"Enter a number: \"))\n",
        "if num < 6:\n",
        "    print(\"num is less than 6\")\n",
        "if num < 10:\n",
        "    print(\"num is less than 10\")\n",
        "if num > 3:\n",
        "    print(\"num is greater than 3\")\n",
        "print(\"Finished.\")\n",
        "\n",
        "## 方法（二）：if-elif-else敘述\n",
        "num = input(\"Pick a number! \")\n",
        "num = int(num)\n",
        "if num < 6:\n",
        "    print(\"number is less than 6.\")\n",
        "elif num < 10:\n",
        "    print(\"number is less than 10.\")\n",
        "elif num > 3:\n",
        "    print(\"number is greater than 3.\")\n",
        "else:\n",
        "    print(\"No relation is found.\")\n",
        "print(\"Finished.\")\n",
        "\n",
        "```"
      ]
    },
    {
      "cell_type": "code",
      "metadata": {
        "id": "y1qVgdaU0yXF"
      },
      "source": [
        "用elif和else:"
      ],
      "execution_count": null,
      "outputs": []
    },
    {
      "cell_type": "markdown",
      "metadata": {
        "id": "Z6v-67wu0yXG"
      },
      "source": [
        "#### 練習2. 時尚偵測師\n",
        "\n",
        "時尚達人Cher 和 Dionne要參加一個華麗的派對。他們想確保他們的穿搭與眾不同，但有也想保留一點共同的地方，比如兩人都喜歡粉紅色。讓我們寫一些程式，確保兩人的穿搭都個性十足！\n",
        "\n",
        "～首先，請用變數賦值的方式決定兩位的穿著\n",
        "\n",
        "```{Python}\n",
        "## 例如下面的穿著建議，請同學自行修改\n",
        "cher_dress_color = \"pink\"\n",
        "cher_shoe_color = \"white\"\n",
        "cher_has_earrings = True\n",
        "dionne_dress_color = \"purple\"\n",
        "dionne_shoe_color = \"pink\"\n",
        "dionne_has_earrings = True\n",
        "```\n",
        "\n",
        "～其次，請同學用真假值做時尚偵測，檢查一下兩位時尚達人的穿搭是否符合下面的要點:\n",
        "\n",
        "1. 至少有一人穿紫色 At least one person is wearing purple? \n",
        "2. 兩人穿不同顏色的衣服Cher and Dionne have different dress colors.\n",
        "3. 兩人都戴耳環Cher and Dionne are both earing earrings.\n",
        "4. 至少有一人穿粉紅色 At least one person is wearing pink.\n",
        "5. 沒人穿綠色。 No one is wearing green.\n",
        "6. 兩人穿同顏色的鞋子 Cher and Dionne have the same shoe color.\n",
        "\n",
        "```{PYTHON}\n",
        "## 例如\n",
        "print(f'At least one person is wearing pink? {cher_dress_color == \"pink\" or dionne_dress_color == \"pink\"}')\n",
        "\n",
        ".......請同學自行撰寫判斷程式\n",
        "```\n"
      ]
    },
    {
      "cell_type": "code",
      "metadata": {
        "id": "vEae0_-P0yXH"
      },
      "source": [
        ""
      ],
      "execution_count": null,
      "outputs": []
    }
  ]
}